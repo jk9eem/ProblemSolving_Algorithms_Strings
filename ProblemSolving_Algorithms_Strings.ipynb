{
  "cells": [
    {
      "cell_type": "markdown",
      "metadata": {
        "id": "view-in-github",
        "colab_type": "text"
      },
      "source": [
        "<a href=\"https://colab.research.google.com/github/jk9eem/ProblemSolving_Algorithms_Strings/blob/main/ProblemSolving_Algorithms_Strings.ipynb\" target=\"_parent\"><img src=\"https://colab.research.google.com/assets/colab-badge.svg\" alt=\"Open In Colab\"/></a>"
      ]
    },
    {
      "cell_type": "markdown",
      "source": [
        "78. Super Reduced String"
      ],
      "metadata": {
        "id": "lqQi063RUSzD"
      }
    },
    {
      "cell_type": "code",
      "source": [
        "def superReducedString(s):\n",
        "    # Write your code here\n",
        "    # n = len(s)\n",
        "    # string = s\n",
        "    # # for i in range(n-1):\n",
        "    # #     if s[i] == s[i+1]:\n",
        "    # #         s[i].replace()\n",
        "    # #         s[i+1].replace()\n",
        "    # while True:\n",
        "    #     for i in range(n-1):\n",
        "    #         if s[i] == s[i+1]:\n",
        "    #             s[i].replace()\n",
        "    #             s[i+1].replace()\n",
        "            \n",
        "    # if s == \"\":\n",
        "    #     return \"Empty String\"\n",
        "    # else:\n",
        "    #     return s\n",
        "\n",
        "    result = []\n",
        "    for i in range(len(s)):\n",
        "        if len(result) == 0 or result[-1] != s[i]: # result[-1]: last character that we add to result\n",
        "                                                   # If the result is empty we'll add the character to the result \n",
        "            result.append(s[i])\n",
        "        else:\n",
        "            result.pop() # It'll delete the last character of result\n",
        "        \n",
        "        # Process: b -> ba -> b(a):because last char of result is equal to current i, we pop the last char of result -> (b): Same reason. It makes \"empty string\"\n",
        "        \n",
        "    if len(result) == 0:\n",
        "        return \"Empty String\"\n",
        "    else:\n",
        "        return \"\".join(result)"
      ],
      "metadata": {
        "id": "-r0L701gTXvR"
      },
      "execution_count": null,
      "outputs": []
    },
    {
      "cell_type": "markdown",
      "source": [
        "79. CamelCase"
      ],
      "metadata": {
        "id": "kOgXC6owUc08"
      }
    },
    {
      "cell_type": "code",
      "source": [
        "def camelcase(s):\n",
        "    # Write your code here\n",
        "    count = 0\n",
        "    for i in s:\n",
        "        if i.isupper() == True:\n",
        "            count+=1\n",
        "    return count+1"
      ],
      "metadata": {
        "id": "RCi1d_pkUc94"
      },
      "execution_count": null,
      "outputs": []
    },
    {
      "cell_type": "markdown",
      "source": [
        "80. Strong Password"
      ],
      "metadata": {
        "id": "xb2etshVj0Xa"
      }
    },
    {
      "cell_type": "code",
      "source": [
        "def minimumNumber(n, password):\n",
        "    # Return the minimum number of characters to make the password strong\n",
        "    # count = 0\n",
        "    # if password.isdecimal() != True:\n",
        "    #     count+=1\n",
        "    # elif password.islower() != True:\n",
        "    #     count+=1\n",
        "    # elif password.isupper() != True:\n",
        "    #     count+=1\n",
        "    # elif password.isalnum() == True:\n",
        "    #     count+=1\n",
        "    # elif password < 6:\n",
        "    #     count = count + (6-n)\n",
        "    # else:\n",
        "    #     return count\n",
        "\n",
        "    spl = '!@#$%^&*()-+' # Special char\n",
        "    l = [0,0,0,0] # To check the each condition\n",
        "                  # cond,\"Its length is at least 6\" will be checked at last\n",
        "                  \n",
        "    # Iterate each char in the password\n",
        "    for char in password:\n",
        "        if char.isdigit(): # It checks the digit is digit -> If it satisfies -> change 0 to 1\n",
        "            l[0] = 1\n",
        "        elif char.islower(): # Check for the lowercase.\n",
        "            l[1] = 1\n",
        "        elif char.isupper(): # Check for the uppercase.\n",
        "            l[2] = 1\n",
        "        elif char in spl: # Check the digit has special char.\n",
        "            l[3] = 1\n",
        "            \n",
        "    # After checking all the char, we also need to check the length. Then return the value\n",
        "    return max(6-len(password), 4-sum(l))\n",
        "        # 'len(password)' will check the length. If it is <6, it'll return POSITIVE value.\n",
        "        # If it is >6, it'll return NEGATIVE value. -> no need to worry about\n",
        "        \n",
        "        # '4-sum(l)' is about the condition.\n",
        "        # If it passes all the conditions, all the numbers in 'l' is 1s. -> sum(l)=4. 4-4=0\n",
        "        # If it doesn't satisfies the conditions, it'll return the corresponding number."
      ],
      "metadata": {
        "id": "TOajocTkj0f1"
      },
      "execution_count": null,
      "outputs": []
    }
  ],
  "metadata": {
    "colab": {
      "collapsed_sections": [],
      "name": "Welcome To Colaboratory",
      "provenance": [],
      "include_colab_link": true
    },
    "kernelspec": {
      "display_name": "Python 3",
      "name": "python3"
    }
  },
  "nbformat": 4,
  "nbformat_minor": 0
}