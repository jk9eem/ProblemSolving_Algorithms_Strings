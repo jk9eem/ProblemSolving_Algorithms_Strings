{
  "cells": [
    {
      "cell_type": "markdown",
      "metadata": {
        "id": "view-in-github",
        "colab_type": "text"
      },
      "source": [
        "<a href=\"https://colab.research.google.com/github/jk9eem/ProblemSolving_Algorithms_Strings/blob/main/ProblemSolving_Algorithms_Strings.ipynb\" target=\"_parent\"><img src=\"https://colab.research.google.com/assets/colab-badge.svg\" alt=\"Open In Colab\"/></a>"
      ]
    },
    {
      "cell_type": "markdown",
      "source": [
        "78. Super Reduced String"
      ],
      "metadata": {
        "id": "lqQi063RUSzD"
      }
    },
    {
      "cell_type": "code",
      "source": [
        "def superReducedString(s):\n",
        "    # Write your code here\n",
        "    # n = len(s)\n",
        "    # string = s\n",
        "    # # for i in range(n-1):\n",
        "    # #     if s[i] == s[i+1]:\n",
        "    # #         s[i].replace()\n",
        "    # #         s[i+1].replace()\n",
        "    # while True:\n",
        "    #     for i in range(n-1):\n",
        "    #         if s[i] == s[i+1]:\n",
        "    #             s[i].replace()\n",
        "    #             s[i+1].replace()\n",
        "            \n",
        "    # if s == \"\":\n",
        "    #     return \"Empty String\"\n",
        "    # else:\n",
        "    #     return s\n",
        "\n",
        "    result = []\n",
        "    for i in range(len(s)):\n",
        "        if len(result) == 0 or result[-1] != s[i]: # result[-1]: last character that we add to result\n",
        "                                                   # If the result is empty we'll add the character to the result \n",
        "            result.append(s[i])\n",
        "        else:\n",
        "            result.pop() # It'll delete the last character of result\n",
        "        \n",
        "        # Process: b -> ba -> b(a):because last char of result is equal to current i, we pop the last char of result -> (b): Same reason. It makes \"empty string\"\n",
        "        \n",
        "    if len(result) == 0:\n",
        "        return \"Empty String\"\n",
        "    else:\n",
        "        return \"\".join(result)"
      ],
      "metadata": {
        "id": "-r0L701gTXvR"
      },
      "execution_count": null,
      "outputs": []
    },
    {
      "cell_type": "markdown",
      "source": [
        "79. Test"
      ],
      "metadata": {
        "id": "kOgXC6owUc08"
      }
    },
    {
      "cell_type": "code",
      "source": [
        ""
      ],
      "metadata": {
        "id": "RCi1d_pkUc94"
      },
      "execution_count": null,
      "outputs": []
    }
  ],
  "metadata": {
    "colab": {
      "collapsed_sections": [],
      "name": "Welcome To Colaboratory",
      "provenance": [],
      "include_colab_link": true
    },
    "kernelspec": {
      "display_name": "Python 3",
      "name": "python3"
    }
  },
  "nbformat": 4,
  "nbformat_minor": 0
}