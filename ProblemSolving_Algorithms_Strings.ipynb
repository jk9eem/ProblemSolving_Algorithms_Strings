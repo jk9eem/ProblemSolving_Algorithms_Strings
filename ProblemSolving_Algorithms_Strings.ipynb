{
  "cells": [
    {
      "cell_type": "markdown",
      "metadata": {
        "id": "view-in-github",
        "colab_type": "text"
      },
      "source": [
        "<a href=\"https://colab.research.google.com/github/jk9eem/ProblemSolving_Algorithms_Strings/blob/main/ProblemSolving_Algorithms_Strings.ipynb\" target=\"_parent\"><img src=\"https://colab.research.google.com/assets/colab-badge.svg\" alt=\"Open In Colab\"/></a>"
      ]
    },
    {
      "cell_type": "markdown",
      "source": [
        "78.Super Reduced String"
      ],
      "metadata": {
        "id": "lqQi063RUSzD"
      }
    },
    {
      "cell_type": "code",
      "source": [
        "def superReducedString(s):\n",
        "    # Write your code here\n",
        "    # n = len(s)\n",
        "    # string = s\n",
        "    # # for i in range(n-1):\n",
        "    # #     if s[i] == s[i+1]:\n",
        "    # #         s[i].replace()\n",
        "    # #         s[i+1].replace()\n",
        "    # while True:\n",
        "    #     for i in range(n-1):\n",
        "    #         if s[i] == s[i+1]:\n",
        "    #             s[i].replace()\n",
        "    #             s[i+1].replace()\n",
        "            \n",
        "    # if s == \"\":\n",
        "    #     return \"Empty String\"\n",
        "    # else:\n",
        "    #     return s\n",
        "\n",
        "    result = []\n",
        "    for i in range(len(s)):\n",
        "        if len(result) == 0 or result[-1] != s[i]: # result[-1]: last character that we add to result\n",
        "                                                   # If the result is empty we'll add the character to the result \n",
        "            result.append(s[i])\n",
        "        else:\n",
        "            result.pop() # It'll delete the last character of result\n",
        "        \n",
        "        # Process: b -> ba -> b(a):because last char of result is equal to current i, we pop the last char of result -> (b): Same reason. It makes \"empty string\"\n",
        "        \n",
        "    if len(result) == 0:\n",
        "        return \"Empty String\"\n",
        "    else:\n",
        "        return \"\".join(result)"
      ],
      "metadata": {
        "id": "-r0L701gTXvR"
      },
      "execution_count": null,
      "outputs": []
    },
    {
      "cell_type": "markdown",
      "source": [
        "79.CamelCase"
      ],
      "metadata": {
        "id": "kOgXC6owUc08"
      }
    },
    {
      "cell_type": "code",
      "source": [
        "def camelcase(s):\n",
        "    # Write your code here\n",
        "    count = 0\n",
        "    for i in s:\n",
        "        if i.isupper() == True:\n",
        "            count+=1\n",
        "    return count+1"
      ],
      "metadata": {
        "id": "RCi1d_pkUc94"
      },
      "execution_count": null,
      "outputs": []
    },
    {
      "cell_type": "markdown",
      "source": [
        "80.Strong Password"
      ],
      "metadata": {
        "id": "xb2etshVj0Xa"
      }
    },
    {
      "cell_type": "code",
      "source": [
        "def minimumNumber(n, password):\n",
        "    # Return the minimum number of characters to make the password strong\n",
        "    # count = 0\n",
        "    # if password.isdecimal() != True:\n",
        "    #     count+=1\n",
        "    # elif password.islower() != True:\n",
        "    #     count+=1\n",
        "    # elif password.isupper() != True:\n",
        "    #     count+=1\n",
        "    # elif password.isalnum() == True:\n",
        "    #     count+=1\n",
        "    # elif password < 6:\n",
        "    #     count = count + (6-n)\n",
        "    # else:\n",
        "    #     return count\n",
        "\n",
        "    spl = '!@#$%^&*()-+' # Special char\n",
        "    l = [0,0,0,0] # To check the each condition\n",
        "                  # cond,\"Its length is at least 6\" will be checked at last\n",
        "                  \n",
        "    # Iterate each char in the password\n",
        "    for char in password:\n",
        "        if char.isdigit(): # It checks the digit is digit -> If it satisfies -> change 0 to 1\n",
        "            l[0] = 1\n",
        "        elif char.islower(): # Check for the lowercase.\n",
        "            l[1] = 1\n",
        "        elif char.isupper(): # Check for the uppercase.\n",
        "            l[2] = 1\n",
        "        elif char in spl: # Check the digit has special char.\n",
        "            l[3] = 1\n",
        "            \n",
        "    # After checking all the char, we also need to check the length. Then return the value\n",
        "    return max(6-len(password), 4-sum(l))\n",
        "        # 'len(password)' will check the length. If it is <6, it'll return POSITIVE value.\n",
        "        # If it is >6, it'll return NEGATIVE value. -> no need to worry about\n",
        "        \n",
        "        # '4-sum(l)' is about the condition.\n",
        "        # If it passes all the conditions, all the numbers in 'l' is 1s. -> sum(l)=4. 4-4=0\n",
        "        # If it doesn't satisfies the conditions, it'll return the corresponding number."
      ],
      "metadata": {
        "id": "TOajocTkj0f1"
      },
      "execution_count": null,
      "outputs": []
    },
    {
      "cell_type": "markdown",
      "source": [
        "81.Two Characters"
      ],
      "metadata": {
        "id": "_GY-MjML9uFi"
      }
    },
    {
      "cell_type": "code",
      "source": [
        "# from itertools import combinations\n",
        "def alternate(s):\n",
        "    # Write your code here\n",
        "    # My approach is like this:\n",
        "    # 1) Find the all the pair combinations ([a,b], [a,e], [a, f], [b, e], [b, f] and [e, f])\n",
        "    # 2) Delete the pair elements from the list(or append the elements to the empty list except the pair)\n",
        "    # 3) If the list shows alternative strings, return it\n",
        "    # But how to prove the list has alternative strings?\n",
        "    \n",
        "    # l = []\n",
        "    # print(list(set((combinations(s,2)))))\n",
        "    \n",
        "    # Solution\n",
        "    maxnum = count = 0 # count: temporary counting, maxnum: to store maximum possible length that can be formed\n",
        "    alp = list(set(s)) # set the alphabet char with unique char. <- THIS IS WHAT I WANTED TO KNOW HOW TO DEAL WITH THE DUPILICATED CHARS TO MAKE UNIQUE CHARS FOR MAKING PAIRS\n",
        "    \n",
        "    # Find all combinations of char\n",
        "    for i in range(len(alp)):          # These 2 loops is the typical code \n",
        "        for j in range(i+1, len(alp)): # for making all combinations(pair) in the list -> It's not out of range!!??\n",
        "            l = [alp[i], alp[j]] # Temp list -> we need to check these chars\n",
        "            \n",
        "            # Checks which char comes first in the string. Both will find the index. \n",
        "            if s.index(alp[i]) < s.index(alp[j]): \n",
        "                ind = 0 # If the current cond satisfies, ind = 0 -> first char comes first in l\n",
        "            else:\n",
        "                ind = 1 # second char comes first in l\n",
        "            \n",
        "            #After finding the index, iterate the chars from the string\n",
        "            # Check for alternate char and increase count\n",
        "            for char in s: # Checking cond1. -> alternation\n",
        "                if char in l: # Checking chars in l=[alp[i], alp[j]]\n",
        "                    if char == l[ind]: # Checking cond2. -> increment\n",
        "                        count += 1     # if char equal to the first index, increment count \n",
        "                        # Flip the index\n",
        "                        ind = ind ^ 1 # ex) ^ is XOR operator!!! If ind=0, 0^1=1. If ind=1, 1^1=0\n",
        "                        \n",
        "                    # If char is not the same -> not alternating char\n",
        "                    else:\n",
        "                        count = 0\n",
        "                        break # Why? it doesn't satisfies the alternating char's condition\n",
        "                    \n",
        "            # Store the max length to maxnum\n",
        "            maxnum = max(maxnum, count)\n",
        "            count = 0\n",
        "            \n",
        "    return maxnum"
      ],
      "metadata": {
        "id": "dKfNo_xC9uNQ"
      },
      "execution_count": null,
      "outputs": []
    },
    {
      "cell_type": "markdown",
      "source": [
        "82.Caesar Cipher"
      ],
      "metadata": {
        "id": "w0a3FR5dVsX_"
      }
    },
    {
      "cell_type": "code",
      "source": [
        "def caesarCipher(s, k):\n",
        "    # Write your code here\n",
        "    # Understood the concept of the problem\n",
        "    \n",
        "    # Solution\n",
        "    # ascii values for characters\n",
        "    temp = [] \n",
        "    \n",
        "    # First, it needs to convert chars to ascii\n",
        "    for char in s:\n",
        "        temp.append(ord(char)) # ord(char): returns the ascii values of corresponding char\n",
        "    \n",
        "    # Main logic - shifting\n",
        "    for i in range(n):\n",
        "        # Need to check both lower and upper case letters\n",
        "        # Upper case - ascii range(65-90)\n",
        "        if 65 <= temp[i] <= 90:\n",
        "            temp[i] = (65 + (temp[i]-65+k)%26) # Find the current char in upper case and add k to shift char value\n",
        "                                  # But there is little logical problem -> out of range. ex)89+3=92 \n",
        "                                  # So, it has to go back to 65 if it is out of range -> add 65 and sub 65\n",
        "            # ex) a=65, k=3. 65(temp[i])-65=0. 0+3(k)=3. 3%26=3. 3+65=68 -> shifted corresponding char by 3\n",
        "        # Lower case - ascii range(97-122)\n",
        "        elif 97 <= temp[i] <= 122:\n",
        "            temp[i] = (97 + (temp[i]-97+k)%26)\n",
        "            \n",
        "        # Convert ascii values to chars\n",
        "    return \"\".join(map(chr,temp)) # temp: list of ascii value -> pass to chr(): convert ascii to char\n",
        "                                  # joining each char to get a string like format "
      ],
      "metadata": {
        "id": "l5-K3D3SVse5"
      },
      "execution_count": null,
      "outputs": []
    },
    {
      "cell_type": "markdown",
      "source": [
        "83.Mars Exploration"
      ],
      "metadata": {
        "id": "Pd37uuCnPJ8y"
      }
    },
    {
      "cell_type": "code",
      "source": [
        "def marsExploration(s):\n",
        "    # Write your code here\n",
        "    # My approach: convert chars to ascii value. Then check the values\n",
        "    # # ascii code of SOS: 083-079-083\n",
        "    # temp = []\n",
        "    # My approach is wrong. There is a simple approach:\n",
        "    # 1) multiply \"SOS\" by k. k=number of \"SOS\"\n",
        "    # 2) This is \"Expected Signal\". Then compare each char between Expceted Signal and Received Signal\n",
        "    # 3) If there is a difference, increase count by 1.\n",
        "    # 4) Return count\n",
        "    count = 0\n",
        "    k = len(s)//3\n",
        "    signal = \"SOS\"*k\n",
        "    for i in range(len(s)):\n",
        "        if s[i] != signal[i]:\n",
        "            count += 1\n",
        "    \n",
        "    # Optimal iteration by solution\n",
        "    # for i,j in zip(s, signal):\n",
        "    #     if i != j:\n",
        "    #         count += 1\n",
        "            \n",
        "    return count"
      ],
      "metadata": {
        "id": "IX2qR3zyPKEC"
      },
      "execution_count": null,
      "outputs": []
    },
    {
      "cell_type": "markdown",
      "source": [
        "84.HackerRank in a String!"
      ],
      "metadata": {
        "id": "6vif-rbPkRZ8"
      }
    },
    {
      "cell_type": "code",
      "source": [
        "def hackerrankInString(s):\n",
        "    # Write your code here\n",
        "    # 1st approach\n",
        "    # h = 1 (104)\n",
        "    # a = 2 (97)\n",
        "    # c = 1 (99)\n",
        "    # k = 2 (107)\n",
        "    # e = 1 (101)\n",
        "    # r = 2 (114)\n",
        "    # n = 1 (110)\n",
        "    # h = a = c = k = e = r = n = trash = 0\n",
        "    # temp = []\n",
        "    # for char in s:\n",
        "    #     temp.append(ord(char))\n",
        "    \n",
        "    # for i in range(len(s)):\n",
        "    #     if temp[i] == 104:\n",
        "    #         h += 1\n",
        "    #     elif temp[i] == 97:\n",
        "    #         a += 1\n",
        "    #     elif temp[i] == 99:\n",
        "    #         c += 1\n",
        "    #     elif temp[i] == 107:\n",
        "    #         k += 1\n",
        "    #     elif temp[i] == 101:\n",
        "    #         e += 1\n",
        "    #     elif temp[i] == 114:\n",
        "    #         r += 1\n",
        "    #     elif temp[i] == 110:\n",
        "    #         n += 1\n",
        "    #     else:\n",
        "    #         trash += 1\n",
        "            \n",
        "    # if h == 1 and a == 2 and c == 1 and k == 2 and e == 1 and r == 2 and n == 1:\n",
        "    #     return \"YES\"\n",
        "    # else:\n",
        "    #     return \"NO\"\n",
        "\n",
        "    # 2nd approach\n",
        "    # h = s.count('h')\n",
        "    # a = s.count('a')\n",
        "    # c = s.count('c')\n",
        "    # k = s.count('k')\n",
        "    # e = s.count('e')\n",
        "    # r = s.count('r')\n",
        "    # n = s.count('n')\n",
        "    \n",
        "    # if h+a+c+k+e+r+n == 10:\n",
        "    #     return \"YES\"\n",
        "    # else:\n",
        "    #     return \"NO\"\n",
        "    \n",
        "    # Solution\n",
        "    target = 'hackerrank'\n",
        "    n = len(target)\n",
        "    \n",
        "    i = 0 # to keep track of target\n",
        "    \n",
        "    # Main logic\n",
        "    # Iterate the each char from the original string\n",
        "    for char in s:\n",
        "        if char == target[i]: # If the curr char is matched the target char, increase index of target to go to the next char\n",
        "            i += 1\n",
        "            # Reaches the end\n",
        "            if i == n: # Means count of string, \"hackerrank\" in the string s\n",
        "                return \"YES\"\n",
        "            \n",
        "    return \"NO\""
      ],
      "metadata": {
        "id": "wgB-of3TkRiO"
      },
      "execution_count": null,
      "outputs": []
    },
    {
      "cell_type": "markdown",
      "source": [
        "85.Pangrams"
      ],
      "metadata": {
        "id": "jSI3RN-7KaPo"
      }
    },
    {
      "cell_type": "code",
      "source": [
        "def pangrams(s):\n",
        "    # Write your code here\n",
        "    temp = set(s.lower()) - set(' ') # I didn't deal with the blank spaces. Make sure to subtrack those!\n",
        "    if len(temp) == 26:\n",
        "        return \"pangram\"\n",
        "    else:\n",
        "        return \"not pangram\""
      ],
      "metadata": {
        "id": "If6d9-iHKabp"
      },
      "execution_count": null,
      "outputs": []
    },
    {
      "cell_type": "markdown",
      "source": [
        "86.Weighted Uniform Strings"
      ],
      "metadata": {
        "id": "spmKUZTR6wMc"
      }
    },
    {
      "cell_type": "code",
      "source": [
        "def weightedUniformStrings(s, queries):\n",
        "    # Write your code here\n",
        "    # # Assign number to alphabet. ex) 1-a, 2-b ...\n",
        "    # numbers = []\n",
        "    # for letter in s:\n",
        "    #     number = ord(s) - 96\n",
        "    #     numbers.append(number)\n",
        "    # How to find the string consists of a single character(=uniform string)?\n",
        "    \n",
        "    # Solution\n",
        "    result = []\n",
        "    d = {} # Create dict -> to store the weights present in the string\n",
        "    weight = 0\n",
        "    \n",
        "    # Main logic\n",
        "    for i in range(len(s)):\n",
        "        # Cond1 - When i is at start porint or adjacent chars are different\n",
        "        if i == 0 or s[i] != s[i-1]:\n",
        "            weight = ord(s[i]) - ord('a') + 1 # Get weight by converting ascii value\n",
        "                                              # ascii logic: ex) if s[i]='c', ord('c')=99, ord('a')=97. 99-97+1=3 -> weight value\n",
        "                                              \n",
        "        # Cond2 - When adjacent chars are the same\n",
        "        else:\n",
        "            weight = weight + ord(s[i]) - ord('a') + 1 # It'll add the prev weigh and curr char weight -> store to weight\n",
        "            \n",
        "        # Store weight to the dict\n",
        "        d[weight] = 1 # weight=key, 1=value\n",
        "        \n",
        "    # Result\n",
        "    for q in queries:\n",
        "        result.append(\"Yes\" if q in d else \"No\") # Python style\n",
        "        \n",
        "    return result"
      ],
      "metadata": {
        "id": "aOAg94Ni6wUm"
      },
      "execution_count": null,
      "outputs": []
    },
    {
      "cell_type": "markdown",
      "source": [
        "87.Separate the Numbers"
      ],
      "metadata": {
        "id": "3k-CnVhAfvzn"
      }
    },
    {
      "cell_type": "code",
      "source": [
        "def separateNumbers(s):\n",
        "    # Write your code here\n",
        "    # result = []\n",
        "    # for i in range(len(s)):\n",
        "    #     if s[i]+1 == s[i+1]:\n",
        "    #         result.append(s[i])\n",
        "    #     else:\n",
        "    #         result.append # How to append two different digits in one digit?\n",
        "    #     # How to determine more than 2 digits?\n",
        "    \n",
        "    # Solution\n",
        "    # Cond1 - String len(1) -> Print 'NO\"\n",
        "    if len(s) == 1:\n",
        "        print(\"NO\")\n",
        "        return\n",
        "    else:\n",
        "        # Generate integer strings by increment of one <- MAIN CONCEPT\n",
        "        # We don't know how many chars combine together to form a single integer -> iteration for\n",
        "        # Every possible combination from 1 to half of the length of the string\n",
        "        # Traverse half of the string\n",
        "        for i in range(1, len(s)//2+1): # Range starts with 1 because at least we have more than 1 strings.\n",
        "            # New variable for generating strings\n",
        "            genStr = s[:i] # It'll store first char of string\n",
        "            prev = int(genStr) # We can increment by 1 evenly by using this\n",
        "            \n",
        "            # Instead of finding the difference between the strings, we generates the own strings(genStr)\n",
        "            # It'll do the operation until it reaches the length\n",
        "            while len(genStr) < len(s):\n",
        "                next = prev + 1 # It'll get the next number\n",
        "                genStr = genStr + str(next) # Store genStr. It'll add the next number to the genStr\n",
        "                prev = next # Change the prev int to the next one\n",
        "                # This operation goes on until it reaches the length of the string\n",
        "                \n",
        "            # When it reaches the length of the string, check it is equal\n",
        "            if genStr == s:\n",
        "                print(\"YES\", s[:i]) # s[:i] -> Starting number. \n",
        "                                    # It'll do the whole operation from 1 to half of the length of the string\n",
        "                return\n",
        "        # After iterating all the possible combination, still it didn't match the original string\n",
        "        print(\"NO\")"
      ],
      "metadata": {
        "id": "pExAtRwdfv8E"
      },
      "execution_count": null,
      "outputs": []
    },
    {
      "cell_type": "markdown",
      "source": [
        "88.Funny String"
      ],
      "metadata": {
        "id": "mRFswx6tVhsG"
      }
    },
    {
      "cell_type": "code",
      "source": [
        "def funnyString(s):\n",
        "    # Write your code here\n",
        "    reverse = s[::-1]\n",
        "    temp = []\n",
        "    org=[]\n",
        "    resultTemp=[]\n",
        "    resultOrg=[]\n",
        "    \n",
        "    for char in reverse:\n",
        "        temp.append(ord(char))\n",
        "    for char in s:\n",
        "        org.append(ord(char))\n",
        "    \n",
        "    for i in range(len(temp)-1):\n",
        "        resultTemp.append(abs(temp[i]-temp[i+1]))\n",
        "        resultOrg.append(abs(org[i]-org[i+1]))\n",
        "    \n",
        "    if resultTemp == resultOrg:\n",
        "        return \"Funny\"\n",
        "    else:\n",
        "        return \"Not Funny\"\n",
        "            \n",
        "    # Better Solution\n",
        "    # Reverse of the string\n",
        "    r = s[::-1]\n",
        "    \n",
        "    # Main logic\n",
        "    for i in range(1, len(s)):\n",
        "        if abs(ord(s[i])-s[i+1]) != abs(ord(r[i])-r[i+1]):\n",
        "            return \"Not Funny\"\n",
        "        else:\n",
        "            return \"Funny\""
      ],
      "metadata": {
        "id": "WBqRBJLQVhy3"
      },
      "execution_count": null,
      "outputs": []
    }
  ],
  "metadata": {
    "colab": {
      "collapsed_sections": [],
      "name": "Welcome To Colaboratory",
      "provenance": [],
      "include_colab_link": true
    },
    "kernelspec": {
      "display_name": "Python 3",
      "name": "python3"
    }
  },
  "nbformat": 4,
  "nbformat_minor": 0
}